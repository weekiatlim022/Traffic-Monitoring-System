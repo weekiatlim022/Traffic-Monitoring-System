{
 "cells": [
  {
   "cell_type": "markdown",
   "id": "fe4741be",
   "metadata": {},
   "source": [
    "# Exercise 1"
   ]
  },
  {
   "cell_type": "markdown",
   "id": "f378c2a3",
   "metadata": {},
   "source": [
    "### Task 1 -Detecting and tracking moving cars from a camera recording"
   ]
  },
  {
   "cell_type": "code",
   "execution_count": 5,
   "id": "251e06ed",
   "metadata": {},
   "outputs": [
    {
     "name": "stdout",
     "output_type": "stream",
     "text": [
      "Requirement already satisfied: opencv-contrib-python in c:\\users\\weeki\\appdata\\roaming\\python\\python39\\site-packages (4.6.0.66)\n",
      "Requirement already satisfied: numpy>=1.19.3 in c:\\users\\weeki\\anaconda3\\lib\\site-packages (from opencv-contrib-python) (1.21.5)\n",
      "Collecting opencv-python\n",
      "  Downloading opencv_python-4.6.0.66-cp36-abi3-win_amd64.whl (35.6 MB)\n",
      "Requirement already satisfied: numpy>=1.14.5 in c:\\users\\weeki\\anaconda3\\lib\\site-packages (from opencv-python) (1.21.5)\n",
      "Installing collected packages: opencv-python\n",
      "Successfully installed opencv-python-4.6.0.66\n"
     ]
    }
   ],
   "source": [
    "#Install opencv library\n",
    "!pip install opencv-contrib-python --user\n",
    "!pip install opencv-python"
   ]
  },
  {
   "cell_type": "code",
   "execution_count": 11,
   "id": "72737edb",
   "metadata": {},
   "outputs": [],
   "source": [
    "# importing OpenCV\n",
    "import cv2\n",
    "\n",
    "# Assigning our background to None\n",
    "background = None\n",
    "\n",
    "# Capturing video\n",
    "video = cv2.VideoCapture(\"C:/Users/weeki/Desktop/Exercise1_files/Traffic_Laramie_1.mp4\")\n",
    "\n",
    "# Infinite while loop to treat stack of image as video\n",
    "while True:\n",
    "    # Reading frame(image) from video\n",
    "    ret, frame = video.read()\n",
    "    \n",
    "    if not ret:\n",
    "        break\n",
    "\n",
    "    # Extract Region of interest\n",
    "    roi = frame[260:600, 0:1040]\n",
    "\n",
    "    # Converting color image to gray_scale image\n",
    "    gray = cv2.cvtColor(roi, cv2.COLOR_BGR2GRAY)\n",
    "\n",
    "    # Converting gray scale image to GaussianBlur\n",
    "    # so that change can be find easily\n",
    "    gray = cv2.GaussianBlur(gray, (15, 15), 0)\n",
    "    \n",
    "    # In first iteration we assign the value\n",
    "    # of background to our first frame\n",
    "    if background is None:\n",
    "        background = gray\n",
    "        continue\n",
    "    \n",
    "    # Difference between background\n",
    "    # and current frame(which is GaussianBlur)\n",
    "    diff = cv2.absdiff(background, gray)\n",
    "    \n",
    "    # If change in between background and\n",
    "    # current frame is greater than 30 it will show white color(255)\n",
    "    thresh = cv2.threshold(diff, 30, 255, cv2.THRESH_BINARY)[1]\n",
    "    thresh = cv2.dilate(thresh, None, iterations = 3)\n",
    "    \n",
    "    # Finding contour of moving object\n",
    "    cnts,_ = cv2.findContours(thresh.copy(),\n",
    "                              cv2.RETR_EXTERNAL, cv2.CHAIN_APPROX_SIMPLE)\n",
    "    \n",
    "    for contour in cnts:\n",
    "        if cv2.contourArea(contour) < 2700:\n",
    "            continue\n",
    "        (x, y, w, h) = cv2.boundingRect(contour)\n",
    "        # making green rectangle around the moving object\n",
    "        cv2.rectangle(roi, (x, y), (x + w, y + h), (0, 255, 0), 3)\n",
    "        \n",
    "    # Displaying image in gray_scale\n",
    "    cv2.imshow(\"Gray Frame\", gray)\n",
    "    \n",
    "    # Displaying the difference in currentframe to\n",
    "    # the staticframe(very first_frame)\n",
    "    cv2.imshow(\"Difference\", diff)\n",
    "\n",
    "    # Displaying color frame with contour of motion of object\n",
    "    cv2.imshow(\"Frame\", frame)\n",
    "    \n",
    "    key = cv2.waitKey(20)\n",
    "    # if q entered whole process will stop\n",
    "    if key == ord('q'):\n",
    "        break\n",
    "\n",
    "video.release()\n",
    "\n",
    "# Destroying all the windows\n",
    "cv2.destroyAllWindows()"
   ]
  }
 ],
 "metadata": {
  "kernelspec": {
   "display_name": "Python 3 (ipykernel)",
   "language": "python",
   "name": "python3"
  },
  "language_info": {
   "codemirror_mode": {
    "name": "ipython",
    "version": 3
   },
   "file_extension": ".py",
   "mimetype": "text/x-python",
   "name": "python",
   "nbconvert_exporter": "python",
   "pygments_lexer": "ipython3",
   "version": "3.9.12"
  }
 },
 "nbformat": 4,
 "nbformat_minor": 5
}
